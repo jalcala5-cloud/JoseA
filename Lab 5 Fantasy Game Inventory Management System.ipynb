{
 "cells": [
  {
   "cell_type": "code",
   "execution_count": 1,
   "id": "242a56d5",
   "metadata": {},
   "outputs": [
    {
     "name": "stdout",
     "output_type": "stream",
     "text": [
      "The dragon has been vanquished! Looting...\n",
      "The dragon has been vanquished! Looting...\n",
      "Inventory:\n",
      "1 rope\n",
      "45 gold coin\n",
      "2 dagger\n",
      "1 ruby\n",
      "Total number of items: 49\n"
     ]
    }
   ],
   "source": [
    "# Name: Jose Alcala\n",
    "# Date: 10/10/2023\n",
    "# Course: CIS 188\n",
    "\n",
    "# Description: Fantasy Game Inventory Management System\n",
    "\n",
    "# Lab 5 Fantasy Game Inventory\n",
    "\n",
    "# Function to display the player's inventory\n",
    "def displayInventory(inventory):\n",
    "    print(\"Inventory:\")\n",
    "    item_total = 0\n",
    "    for item, count in inventory.items():\n",
    "        print(f\"{count} {item}\")   # shows how many of each item\n",
    "        item_total += count\n",
    "    print(\"Total number of items: \" + str(item_total))\n",
    "\n",
    "\n",
    "# Function to add items from loot into the inventory\n",
    "def addToInventory(inventory, addedItems):\n",
    "    for item in addedItems:\n",
    "        if item in inventory:\n",
    "            inventory[item] += 1   # add +1 if item already exists\n",
    "        else:\n",
    "            inventory[item] = 1    # create new item with count 1\n",
    "\n",
    "# ----- Main program -----\n",
    "# starting items\n",
    "stuff = {'rope': 1, 'gold coin': 42, 'dagger': 1}\n",
    "\n",
    "# loot from dragon\n",
    "def new_func():\n",
    "    dragonLoot = ['gold coin', 'dagger', 'gold coin', 'gold coin', 'ruby']\n",
    "    return dragonLoot\n",
    "\n",
    "dragonLoot = new_func()\n",
    "\n",
    "print(\"The dragon has been vanquished! Looting...\")\n",
    "def main():\n",
    "    print(\"The dragon has been vanquished! Looting...\")\n",
    "    addToInventory(stuff, dragonLoot)\n",
    "    displayInventory(stuff)\n",
    "\n",
    "if __name__ == \"__main__\":\n",
    "    main()\n"
   ]
  },
  {
   "cell_type": "code",
   "execution_count": null,
   "id": "401c867a",
   "metadata": {},
   "outputs": [],
   "source": []
  }
 ],
 "metadata": {
  "kernelspec": {
   "display_name": "\"Python/Mu (mu_venv-38-20250826-132056)\"",
   "language": "python",
   "name": "mu_venv-38-20250826-132056"
  },
  "language_info": {
   "codemirror_mode": {
    "name": "ipython",
    "version": 3
   },
   "file_extension": ".py",
   "mimetype": "text/x-python",
   "name": "python",
   "nbconvert_exporter": "python",
   "pygments_lexer": "ipython3",
   "version": "3.8.12"
  }
 },
 "nbformat": 4,
 "nbformat_minor": 5
}
