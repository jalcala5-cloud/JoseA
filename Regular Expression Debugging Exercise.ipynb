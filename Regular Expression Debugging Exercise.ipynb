{
 "cells": [
  {
   "cell_type": "code",
   "execution_count": 1,
   "id": "e9730be1",
   "metadata": {},
   "outputs": [
    {
     "name": "stdout",
     "output_type": "stream",
     "text": [
      "<re.Match object; span=(0, 12), match='Joe@Pima.com'>\n",
      "<re.Match object; span=(0, 10), match='12345-6789'>\n",
      "<re.Match object; span=(0, 14), match='(520) 206-6600'>\n",
      "<re.Match object; span=(0, 21), match='https://www.pima.edu/'>\n"
     ]
    }
   ],
   "source": [
    "\n",
    "# Name: Jose Alcala\n",
    "# Date: 10/23/2025\n",
    "# Class: CIS188\n",
    "# Description: Regular Expression Debugging Exercise\n",
    "\n",
    "import re\n",
    "\n",
    "# Valid Email Address\n",
    "print(re.match(r'^[\\w.%+-]+@[A-Za-z0-9.-]+\\.[A-Za-z]{2,}$', 'Joe@Pima.com'))\n",
    "\n",
    "# Valid U.S. ZIP Code\n",
    "print(re.match(r'^\\d{5}(-\\d{4})?$', '12345-6789'))\n",
    "\n",
    "# Valid Phone Number\n",
    "print(re.match(r'^(\\(\\d{3}\\)\\s*|\\d{3}[-\\s]?)\\d{3}[-\\s]?\\d{4}$', '(520) 206-6600'))\n",
    "\n",
    "# Valid URL\n",
    "print(re.match(r'^(https?://)?(www\\.)?[A-Za-z0-9.-]+\\.[A-Za-z]{2,}(/[\\w./?%&=-]*)?$', 'https://www.pima.edu/'))"
   ]
  }
 ],
 "metadata": {
  "kernelspec": {
   "display_name": "\"Python/Mu (mu_venv-38-20250826-132056)\"",
   "language": "python",
   "name": "mu_venv-38-20250826-132056"
  },
  "language_info": {
   "codemirror_mode": {
    "name": "ipython",
    "version": 3
   },
   "file_extension": ".py",
   "mimetype": "text/x-python",
   "name": "python",
   "nbconvert_exporter": "python",
   "pygments_lexer": "ipython3",
   "version": "3.8.12"
  }
 },
 "nbformat": 4,
 "nbformat_minor": 5
}
