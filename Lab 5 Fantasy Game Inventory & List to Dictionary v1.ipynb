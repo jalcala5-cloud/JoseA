{
 "cells": [
  {
   "cell_type": "code",
   "execution_count": 2,
   "id": "e00bdd6e",
   "metadata": {},
   "outputs": [
    {
     "name": "stdout",
     "output_type": "stream",
     "text": [
      "The dragon has been vanquished! Looting...\n",
      "Inventory updated!\n",
      "Inventory:\n",
      "1 rope\n",
      "45 gold coin\n",
      "2 dagger\n",
      "1 ruby\n",
      "Total number of items: 49\n"
     ]
    }
   ],
   "source": [
    "# CIS188_inventory.py\n",
    "def displayInventory(inventory):\n",
    "\tprint(\"Inventory:\")\n",
    "\titem_total = 0\n",
    "\t# for loop to look through the dictionary items\n",
    "\tfor k, v in inventory.items():\n",
    "\t\tprint(f\"{v} {k}\")\n",
    "\t\titem_total += v\n",
    "\tprint(\"Total number of items: \" + str(item_total))\n",
    "\n",
    "def addToInventory(inventory, addedItems):\n",
    "\t# your code goes here\n",
    "\tfor item in addedItems:\n",
    "\t\tinventory[item] = inventory.get(item, 0) + 1\n",
    "\tprint('Inventory updated!')\n",
    "\treturn inventory\n",
    "\n",
    "# below is the 'main' code that sets up the data structures and\n",
    "# calls the functions defined above\n",
    "stuff = {'rope': 1, 'gold coin': 42, 'dagger': 1}\n",
    "dragonLoot = ['gold coin', 'dagger', 'gold coin', 'gold coin',\n",
    "'ruby']\n",
    "print('The dragon has been vanquished! Looting...')\n",
    "stuff = addToInventory(stuff, dragonLoot)\n",
    "displayInventory(stuff)"
   ]
  }
 ],
 "metadata": {
  "kernelspec": {
   "display_name": "Python 3",
   "language": "python",
   "name": "python3"
  },
  "language_info": {
   "codemirror_mode": {
    "name": "ipython",
    "version": 3
   },
   "file_extension": ".py",
   "mimetype": "text/x-python",
   "name": "python",
   "nbconvert_exporter": "python",
   "pygments_lexer": "ipython3",
   "version": "3.11.9"
  }
 },
 "nbformat": 4,
 "nbformat_minor": 5
}
