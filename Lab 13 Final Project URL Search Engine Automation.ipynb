{
 "cells": [
  {
   "cell_type": "code",
   "execution_count": null,
   "id": "9de190d9",
   "metadata": {},
   "outputs": [
    {
     "name": "stdout",
     "output_type": "stream",
     "text": [
      "=== Google Search Automation ===\n",
      "Opening search for: lego\n",
      "\n",
      "Searches opened successfully in Google Chrome!\n"
     ]
    }
   ],
   "source": [
    "# Name: Joe Alcala\n",
    "# Class: CIS188\n",
    "# Final Project - URL Search Engine Automation\n",
    "# Date: 10/10/2025\n",
    "\n",
    "import webbrowser\n",
    "import time\n",
    "import urllib.parse\n",
    "\n",
    "def google_search(search_terms):\n",
    "    \"\"\"Automatically opens Chrome and searches each term on Google.\"\"\"\n",
    "    for term in search_terms:\n",
    "        query = urllib.parse.quote(term)\n",
    "        url = f\"https://www.google.com/search?q={query}\"\n",
    "        print(f\"Opening search for: {term}\")\n",
    "        webbrowser.get(\"chrome\").open_new_tab(url)\n",
    "        time.sleep(1)  # Wait 1 second between tabs\n",
    "\n",
    "def main():\n",
    "    print(\"=== Google Search Automation ===\")\n",
    "    terms = input(\"Enter search terms (comma-separated): \").split(\",\")\n",
    "    search_terms = [t.strip() for t in terms if t.strip()]\n",
    "\n",
    "    google_search(search_terms)\n",
    "    print(\"\\nSearches opened successfully in Google Chrome!\")\n",
    "\n",
    "if __name__ == \"__main__\":\n",
    "    main()\n"
   ]
  }
 ],
 "metadata": {
  "kernelspec": {
   "display_name": "\"Python/Mu (mu_venv-38-20250826-132056)\"",
   "language": "python",
   "name": "mu_venv-38-20250826-132056"
  },
  "language_info": {
   "codemirror_mode": {
    "name": "ipython",
    "version": 3
   },
   "file_extension": ".py",
   "mimetype": "text/x-python",
   "name": "python",
   "nbconvert_exporter": "python",
   "pygments_lexer": "ipython3",
   "version": "3.8.12"
  }
 },
 "nbformat": 4,
 "nbformat_minor": 5
}
